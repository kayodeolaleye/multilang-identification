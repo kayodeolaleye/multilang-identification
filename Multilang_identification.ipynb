{
  "cells": [
    {
      "cell_type": "markdown",
      "metadata": {
        "colab_type": "text",
        "id": "view-in-github"
      },
      "source": [
        "<a href=\"https://colab.research.google.com/github/kayodeolaleye/multilang-identification/blob/main/Multilang_identification.ipynb\" target=\"_parent\"><img src=\"https://colab.research.google.com/assets/colab-badge.svg\" alt=\"Open In Colab\"/></a>"
      ]
    },
    {
      "cell_type": "markdown",
      "metadata": {
        "id": "vd1Vu8s-oly8"
      },
      "source": [
        "# Lang Identification using SentenceTransformer\n",
        "Demo for [Link-to-github-repo]"
      ]
    },
    {
      "cell_type": "markdown",
      "metadata": {
        "id": "Tdr0Xq1epOOc"
      },
      "source": [
        "Install the necessary packages:"
      ]
    },
    {
      "cell_type": "code",
      "execution_count": null,
      "metadata": {
        "id": "K6BZfOK1htR5"
      },
      "outputs": [],
      "source": [
        "!pip install -q datasets \n",
        "!pip install -q transformers\n"
      ]
    },
    {
      "cell_type": "code",
      "execution_count": null,
      "metadata": {
        "id": "2Dsy_0WIhvIo"
      },
      "outputs": [],
      "source": [
        "import torch\n",
        "import matplotlib.pyplot as plt"
      ]
    },
    {
      "cell_type": "markdown",
      "metadata": {
        "id": "8xb2f-21nn2Q"
      },
      "source": [
        "Download pretrained weights for the vocoder and move to the GPU"
      ]
    },
    {
      "cell_type": "code",
      "execution_count": null,
      "metadata": {
        "id": "Nv6AS1ZtkRr8"
      },
      "outputs": [],
      "source": [
        "vocoder = Vocoder.from_pretrained(\n",
        "    \"https://github.com/bshall/UniversalVocoding/releases/download/v0.2/univoc-ljspeech-7mtpaq.pt\"\n",
        ").cuda()"
      ]
    },
    {
      "cell_type": "markdown",
      "metadata": {
        "id": "LJppnjFCnwRh"
      },
      "source": [
        "Download pretrained weights for tacotron"
      ]
    },
    {
      "cell_type": "code",
      "execution_count": null,
      "metadata": {
        "id": "Dh9s-8ZDWRf5"
      },
      "outputs": [],
      "source": [
        "tacotron = Tacotron.from_pretrained(\n",
        "    \"https://github.com/bshall/Tacotron/releases/download/v0.1/tacotron-ljspeech-yspjx3.pt\"\n",
        ").cuda()"
      ]
    },
    {
      "cell_type": "markdown",
      "metadata": {
        "id": "BVfNhClFn25w"
      },
      "source": [
        "Load the CMU pronunciation dictionary and add the pronunciation of \"PyTorch\""
      ]
    },
    {
      "cell_type": "code",
      "execution_count": null,
      "metadata": {
        "id": "EJKStkw_XTU9"
      },
      "outputs": [],
      "source": [
        "cmudict = load_cmudict()\n",
        "cmudict[\"PYTORCH\"] = \"P AY1 T AO2 R CH\""
      ]
    },
    {
      "cell_type": "markdown",
      "metadata": {
        "id": "miBeiQEXoQCH"
      },
      "source": [
        "Synthesize the audio!"
      ]
    },
    {
      "cell_type": "code",
      "execution_count": null,
      "metadata": {
        "id": "mNQJCGnIll2s"
      },
      "outputs": [],
      "source": [
        "x = torch.LongTensor(text_to_id(text, cmudict)).unsqueeze(0).cuda()\n",
        "with torch.no_grad():\n",
        "    mel, alpha = tacotron.generate(x)\n",
        "    wav, sr = vocoder.generate(mel.transpose(1, 2))"
      ]
    },
    {
      "cell_type": "markdown",
      "metadata": {
        "id": "dFcbRt4Yob_3"
      },
      "source": [
        "Listen to the results (IPython normalizes the audio so the result is louder than it would normally be)"
      ]
    },
    {
      "cell_type": "code",
      "execution_count": null,
      "metadata": {
        "id": "Ut4sD-1imFTV"
      },
      "outputs": [],
      "source": [
        "Audio(wav, rate=sr)"
      ]
    },
    {
      "cell_type": "markdown",
      "metadata": {
        "id": "UIvv6DQ2ogC2"
      },
      "source": [
        "and plot the attention matrix"
      ]
    },
    {
      "cell_type": "code",
      "execution_count": null,
      "metadata": {
        "id": "rIfYMI5DmHHV"
      },
      "outputs": [],
      "source": [
        "plt.imshow(alpha.squeeze().cpu().numpy(), vmin=0, vmax=0.8, origin=\"lower\")\n",
        "plt.xlabel(\"Decoder steps\")\n",
        "plt.ylabel(\"Encoder steps\")"
      ]
    },
    {
      "cell_type": "code",
      "execution_count": null,
      "metadata": {
        "id": "M27-ErBgjy4c"
      },
      "outputs": [],
      "source": []
    }
  ],
  "metadata": {
    "accelerator": "GPU",
    "colab": {
      "include_colab_link": true,
      "provenance": []
    },
    "kernelspec": {
      "display_name": "Python 3",
      "language": "python",
      "name": "python3"
    },
    "language_info": {
      "name": "python",
      "version": "3.8.10 (default, Sep 28 2021, 16:10:42) \n[GCC 9.3.0]"
    },
    "vscode": {
      "interpreter": {
        "hash": "916dbcbb3f70747c44a77c7bcd40155683ae19c65e1c03b4aa3499c5328201f1"
      }
    }
  },
  "nbformat": 4,
  "nbformat_minor": 0
}
